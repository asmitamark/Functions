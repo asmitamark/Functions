{
 "cells": [
  {
   "cell_type": "markdown",
   "id": "28f4e0a2-6ad9-4a74-970d-78c5196bcdbb",
   "metadata": {},
   "source": [
    "PRACTICAL QUESTIONS"
   ]
  },
  {
   "cell_type": "code",
   "execution_count": 1,
   "id": "d07e6538-8734-41be-9463-f42cb4025c68",
   "metadata": {},
   "outputs": [],
   "source": [
    "# Q.1 Write a Python function that takes a list of numbers as input and returns the sum of all even numbers in \n",
    "# the list"
   ]
  },
  {
   "cell_type": "code",
   "execution_count": 2,
   "id": "fb90c63a-2702-4771-b7bc-d914a46e9477",
   "metadata": {},
   "outputs": [
    {
     "name": "stdout",
     "output_type": "stream",
     "text": [
      "12\n"
     ]
    }
   ],
   "source": [
    "def sum_even_numbers(numbers):\n",
    "    total = 0\n",
    "    for number in numbers:\n",
    "        if number % 2 == 0:\n",
    "            total += number\n",
    "    return total\n",
    "numbers = [1, 2, 3, 4, 5, 6]\n",
    "print(sum_even_numbers(numbers))"
   ]
  },
  {
   "cell_type": "code",
   "execution_count": 3,
   "id": "adc7cf98-e010-4375-9d19-e791c4ee0ec5",
   "metadata": {},
   "outputs": [],
   "source": [
    "# Q.2 Create a Python function that accepts a string and returns the reverse of that string."
   ]
  },
  {
   "cell_type": "code",
   "execution_count": 4,
   "id": "07d12570-9cc6-4e34-bdfd-775fb46f561d",
   "metadata": {},
   "outputs": [
    {
     "name": "stdout",
     "output_type": "stream",
     "text": [
      "!dlroW ,olleH\n"
     ]
    }
   ],
   "source": [
    "def reverse_string(s):\n",
    "    return s[::-1]\n",
    "string = \"Hello, World!\"\n",
    "print(reverse_string(string))  "
   ]
  },
  {
   "cell_type": "code",
   "execution_count": 5,
   "id": "f970b29d-c6e3-4ad4-af58-8af06ce82e47",
   "metadata": {},
   "outputs": [],
   "source": [
    "# Q.3 Implement a Python function that takes a list of integers and returns a new list containing the squares of \n",
    "# each number"
   ]
  },
  {
   "cell_type": "code",
   "execution_count": 6,
   "id": "9740c824-1e2c-470a-994f-9cb3abd3dec3",
   "metadata": {},
   "outputs": [
    {
     "name": "stdout",
     "output_type": "stream",
     "text": [
      "[1, 4, 9, 16, 25]\n"
     ]
    }
   ],
   "source": [
    "def square_numbers(numbers):\n",
    "    return [number ** 2 for number in numbers]\n",
    "numbers = [1, 2, 3, 4, 5]\n",
    "squared_numbers = square_numbers(numbers)\n",
    "print(squared_numbers) "
   ]
  },
  {
   "cell_type": "code",
   "execution_count": 7,
   "id": "40ff96d1-67f1-406e-a4ab-f1f25928eade",
   "metadata": {},
   "outputs": [],
   "source": [
    "# Q.4 Write a Python function that checks if a given number is prime or not from 1 to 200"
   ]
  },
  {
   "cell_type": "code",
   "execution_count": 8,
   "id": "6335504a-e11c-493e-ab26-067ba8c6e726",
   "metadata": {},
   "outputs": [
    {
     "name": "stdout",
     "output_type": "stream",
     "text": [
      "2 is a prime number\n",
      "3 is a prime number\n",
      "5 is a prime number\n",
      "7 is a prime number\n",
      "11 is a prime number\n",
      "13 is a prime number\n",
      "17 is a prime number\n",
      "19 is a prime number\n",
      "23 is a prime number\n",
      "29 is a prime number\n",
      "31 is a prime number\n",
      "37 is a prime number\n",
      "41 is a prime number\n",
      "43 is a prime number\n",
      "47 is a prime number\n",
      "53 is a prime number\n",
      "59 is a prime number\n",
      "61 is a prime number\n",
      "67 is a prime number\n",
      "71 is a prime number\n",
      "73 is a prime number\n",
      "79 is a prime number\n",
      "83 is a prime number\n",
      "89 is a prime number\n",
      "97 is a prime number\n",
      "101 is a prime number\n",
      "103 is a prime number\n",
      "107 is a prime number\n",
      "109 is a prime number\n",
      "113 is a prime number\n",
      "127 is a prime number\n",
      "131 is a prime number\n",
      "137 is a prime number\n",
      "139 is a prime number\n",
      "149 is a prime number\n",
      "151 is a prime number\n",
      "157 is a prime number\n",
      "163 is a prime number\n",
      "167 is a prime number\n",
      "173 is a prime number\n",
      "179 is a prime number\n",
      "181 is a prime number\n",
      "191 is a prime number\n",
      "193 is a prime number\n",
      "197 is a prime number\n",
      "199 is a prime number\n"
     ]
    }
   ],
   "source": [
    "def is_prime(n):\n",
    "    if n < 2:\n",
    "        return False\n",
    "    for i in range(2, int(n**0.5) + 1):\n",
    "        if n % i == 0:\n",
    "            return False\n",
    "    return True\n",
    "for number in range(1, 201):\n",
    "    if is_prime(number):\n",
    "        print(f\"{number} is a prime number\")"
   ]
  },
  {
   "cell_type": "code",
   "execution_count": 9,
   "id": "24659bb6-2eb8-4675-ae03-c2b0f5ea27f3",
   "metadata": {},
   "outputs": [],
   "source": [
    "# Q.5 Create an iterator class in Python that generates the Fibonacci sequence up to a specified number of \n",
    "# terms."
   ]
  },
  {
   "cell_type": "code",
   "execution_count": 10,
   "id": "ba59e49e-b404-4aa5-9f35-c7f6c31cbd52",
   "metadata": {},
   "outputs": [
    {
     "name": "stdout",
     "output_type": "stream",
     "text": [
      "0\n",
      "1\n",
      "1\n",
      "2\n",
      "3\n",
      "5\n",
      "8\n",
      "13\n",
      "21\n",
      "34\n"
     ]
    }
   ],
   "source": [
    "class FibonacciIterator:\n",
    "    def __init__(self, n):\n",
    "        \"\"\"Initialize the iterator with the number of terms to generate.\"\"\"\n",
    "        self.n = n  \n",
    "        self.count = 0  \n",
    "        self.a, self.b = 0, 1  \n",
    "    def __iter__(self):\n",
    "        \"\"\"Return the iterator object itself.\"\"\"\n",
    "        return self\n",
    "    def __next__(self):\n",
    "        \"\"\"Return the next Fibonacci number.\"\"\"\n",
    "        if self.count >= self.n:\n",
    "            raise StopIteration\n",
    "        fib_number = self.a\n",
    "        self.a, self.b = self.b, self.a + self.b\n",
    "        self.count += 1\n",
    "        \n",
    "        return fib_number\n",
    "fibonacci_terms = 10  \n",
    "fib_iter = FibonacciIterator(fibonacci_terms)\n",
    "for number in fib_iter:\n",
    "    print(number)"
   ]
  },
  {
   "cell_type": "code",
   "execution_count": 11,
   "id": "ef446ab7-1fa4-43bc-bb4f-62eaa5f9ba22",
   "metadata": {},
   "outputs": [],
   "source": [
    "# Q.6 Write a generator function in Python that yields the powers of 2 up to a given exponent."
   ]
  },
  {
   "cell_type": "code",
   "execution_count": 12,
   "id": "978d1f47-3e4e-4519-aedb-883804837c50",
   "metadata": {},
   "outputs": [
    {
     "name": "stdout",
     "output_type": "stream",
     "text": [
      "1\n",
      "2\n",
      "4\n",
      "8\n",
      "16\n",
      "32\n"
     ]
    }
   ],
   "source": [
    "def powers_of_two(max_exponent):\n",
    "    \"\"\"Generate powers of 2 up to 2**max_exponent.\"\"\"\n",
    "    exponent = 0\n",
    "    while exponent <= max_exponent:\n",
    "        yield 2 ** exponent\n",
    "        exponent += 1\n",
    "max_exponent = 5\n",
    "for power in powers_of_two(max_exponent):\n",
    "    print(power)"
   ]
  },
  {
   "cell_type": "code",
   "execution_count": 13,
   "id": "172a6431-8916-4489-95bf-163b1d6ad100",
   "metadata": {},
   "outputs": [],
   "source": [
    "# Q.7 Implement a generator function that reads a file line by line and yields each line as a string."
   ]
  },
  {
   "cell_type": "code",
   "execution_count": 14,
   "id": "ac7efe97-ca6c-49e0-9064-83b369b7ea8d",
   "metadata": {},
   "outputs": [
    {
     "name": "stdout",
     "output_type": "stream",
     "text": [
      "Error: The file 'example.txt' was not found.\n"
     ]
    }
   ],
   "source": [
    "def read_lines(filename):\n",
    "    \"\"\"Generator function that reads a file line by line and yields each line as a string.\"\"\"\n",
    "    try:\n",
    "        with open(filename, 'r') as file:\n",
    "            for line in file:\n",
    "                yield line.rstrip('\\n')\n",
    "    except FileNotFoundError:\n",
    "        print(f\"Error: The file '{filename}' was not found.\")\n",
    "    except IOError:\n",
    "        print(f\"Error: An I/O error occurred while reading the file '{filename}'.\")\n",
    "filename = 'example.txt' \n",
    "for line in read_lines(filename):\n",
    "    print(line)"
   ]
  },
  {
   "cell_type": "code",
   "execution_count": 15,
   "id": "2e48a7f1-e58f-481b-8fc6-af067ef0eaf5",
   "metadata": {},
   "outputs": [],
   "source": [
    "# Q.8 Use a lambda function in Python to sort a list of tuples based on the second element of each tuple."
   ]
  },
  {
   "cell_type": "code",
   "execution_count": 16,
   "id": "aeea7fdc-e674-4084-8cff-a25761fb87c1",
   "metadata": {},
   "outputs": [
    {
     "name": "stdout",
     "output_type": "stream",
     "text": [
      "[(2, 1), (3, 2), (1, 3), (4, 4)]\n"
     ]
    }
   ],
   "source": [
    "tuples_list = [(1, 3), (2, 1), (3, 2), (4, 4)]\n",
    "sorted_list = sorted(tuples_list, key=lambda x: x[1])\n",
    "print(sorted_list) "
   ]
  },
  {
   "cell_type": "code",
   "execution_count": 17,
   "id": "1331b954-982a-462e-b0ce-0537e3917a9b",
   "metadata": {},
   "outputs": [],
   "source": [
    "# Q.9 Write a Python program that uses `map()` to convert a list of temperatures from Celsius to Fahrenheit."
   ]
  },
  {
   "cell_type": "code",
   "execution_count": 18,
   "id": "b7a33dd4-682c-41c5-9b38-aec03adac108",
   "metadata": {},
   "outputs": [
    {
     "name": "stdout",
     "output_type": "stream",
     "text": [
      "Celsius temperatures: [0, 10, 20, 30, 40]\n",
      "Fahrenheit temperatures: [32.0, 50.0, 68.0, 86.0, 104.0]\n"
     ]
    }
   ],
   "source": [
    "def celsius_to_fahrenheit(celsius):\n",
    "    return (celsius * 9/5) + 32\n",
    "celsius_temps = [0, 10, 20, 30, 40]\n",
    "fahrenheit_temps = list(map(celsius_to_fahrenheit, celsius_temps))\n",
    "print(\"Celsius temperatures:\", celsius_temps)\n",
    "print(\"Fahrenheit temperatures:\", fahrenheit_temps)"
   ]
  },
  {
   "cell_type": "code",
   "execution_count": 19,
   "id": "f04a5b66-2eab-4255-9599-e7ff88642916",
   "metadata": {},
   "outputs": [],
   "source": [
    "# Q.10  Create a Python program that uses `filter()` to remove all the vowels from a given string."
   ]
  },
  {
   "cell_type": "code",
   "execution_count": 20,
   "id": "b84eb1f7-53b5-4235-a337-bef1af114921",
   "metadata": {},
   "outputs": [
    {
     "name": "stdout",
     "output_type": "stream",
     "text": [
      "Original string: Hello, World!\n",
      "String without vowels: Hll, Wrld!\n"
     ]
    }
   ],
   "source": [
    "def is_not_vowel(char):\n",
    "    \"\"\"Return True if char is not a vowel, False otherwise.\"\"\"\n",
    "    return char.lower() not in 'aeiou'\n",
    "def remove_vowels(input_string):\n",
    "    \"\"\"Remove all vowels from the input string.\"\"\"\n",
    "    filtered_chars = filter(is_not_vowel, input_string)\n",
    "    return ''.join(filtered_chars)\n",
    "original_string = \"Hello, World!\"\n",
    "no_vowels_string = remove_vowels(original_string)\n",
    "print(\"Original string:\", original_string)\n",
    "print(\"String without vowels:\", no_vowels_string)"
   ]
  }
 ],
 "metadata": {
  "kernelspec": {
   "display_name": "Python 3 (ipykernel)",
   "language": "python",
   "name": "python3"
  },
  "language_info": {
   "codemirror_mode": {
    "name": "ipython",
    "version": 3
   },
   "file_extension": ".py",
   "mimetype": "text/x-python",
   "name": "python",
   "nbconvert_exporter": "python",
   "pygments_lexer": "ipython3",
   "version": "3.10.8"
  }
 },
 "nbformat": 4,
 "nbformat_minor": 5
}
